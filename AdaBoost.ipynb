{
 "cells": [
  {
   "cell_type": "code",
   "execution_count": 161,
   "id": "e5eed383",
   "metadata": {},
   "outputs": [],
   "source": [
    "#Importing libraries\n",
    "import numpy as np\n",
    "import pandas as pd"
   ]
  },
  {
   "cell_type": "code",
   "execution_count": 162,
   "id": "f7860382",
   "metadata": {},
   "outputs": [],
   "source": [
    "#Reading the dataset\n",
    "df=pd.read_csv('inhibitors1.csv')"
   ]
  },
  {
   "cell_type": "code",
   "execution_count": 163,
   "id": "20c944e9",
   "metadata": {},
   "outputs": [],
   "source": [
    "#Reading the dataset\n",
    "df1=pd.read_csv('activators.csv')"
   ]
  },
  {
   "cell_type": "code",
   "execution_count": 164,
   "id": "bc5dc60f",
   "metadata": {},
   "outputs": [
    {
     "name": "stdout",
     "output_type": "stream",
     "text": [
      "   ReadIn_ID  USER_ID  D001  D002  D003  D004  D005  D006  D007  D008  ...  \\\n",
      "0          1      NaN     1     0     0     1     1     0     0     0  ...   \n",
      "1          2      NaN     2     0     0     1     2     0     0     0  ...   \n",
      "2          3      NaN     1     0     0     1     1     0     0     0  ...   \n",
      "3          4      NaN     1     0     0     0     2     0     0     0  ...   \n",
      "4          5      NaN     1     0     0     0     2     0     0     0  ...   \n",
      "\n",
      "   D769  D770  D771  D772  D773   D774   D775   D776   D777  Indicator  \n",
      "0     0     0     0     0     0  4.755  0.515  0.286  1.739          0  \n",
      "1     0     0     0     0     0  5.000  0.384  0.522  1.500          0  \n",
      "2     0     0     0     0     0  4.459  0.636  0.375  0.747          0  \n",
      "3     0     0     0     0     0  4.392  0.460  0.353  1.727          0  \n",
      "4     0     0     0     0     0  4.700  0.546  0.316  1.137          0  \n",
      "\n",
      "[5 rows x 780 columns]\n",
      "   ReadIn_ID  USER_ID  D001  D002  D003  D004  D005  D006  D007  D008  ...  \\\n",
      "0          1      NaN     2     0     0     0     3     0     0     0  ...   \n",
      "1          2      NaN     2     0     0     0     3     0     0     0  ...   \n",
      "2          3      NaN     1     0     0     1     2     0     0     0  ...   \n",
      "3          4      NaN     1     0     0     0     3     0     0     0  ...   \n",
      "4          5      NaN     1     0     0     1     2     0     0     0  ...   \n",
      "\n",
      "   D769  D770  D771  D772  D773   D774   D775   D776   D777  Indicator  \n",
      "0     0     0     0     0     0  5.129 -0.686  0.480  1.489          1  \n",
      "1     0     0     0     0     0  5.087 -0.717  0.500  1.099          1  \n",
      "2     0     0     0     0     0  4.858 -0.640  0.273  2.281          1  \n",
      "3     0     0     0     0     0  5.000  0.354  0.250  1.427          1  \n",
      "4     0     0     0     0     0  5.209 -0.249  0.200  1.261          1  \n",
      "\n",
      "[5 rows x 780 columns]\n"
     ]
    }
   ],
   "source": [
    "print(df.head())\n",
    "print(df1.head())"
   ]
  },
  {
   "cell_type": "code",
   "execution_count": 165,
   "id": "3a9b9429",
   "metadata": {},
   "outputs": [],
   "source": [
    "#Independent variable\n",
    "inhibitors = df.drop(columns = ['ReadIn_ID', 'USER_ID'])\n",
    "activators = df1.drop(columns = ['ReadIn_ID', 'USER_ID']) "
   ]
  },
  {
   "cell_type": "code",
   "execution_count": 166,
   "id": "4121935c",
   "metadata": {},
   "outputs": [
    {
     "name": "stdout",
     "output_type": "stream",
     "text": [
      "   D001  D002  D003  D004  D005  D006  D007  D008  D009  D010  ...  D769  \\\n",
      "0     1     0     0     1     1     0     0     0     0     0  ...     0   \n",
      "1     2     0     0     1     2     0     0     0     0     0  ...     0   \n",
      "2     1     0     0     1     1     0     0     0     0     0  ...     0   \n",
      "3     1     0     0     0     2     0     0     0     0     0  ...     0   \n",
      "4     1     0     0     0     2     0     0     0     0     0  ...     0   \n",
      "\n",
      "   D770  D771  D772  D773   D774   D775   D776   D777  Indicator  \n",
      "0     0     0     0     0  4.755  0.515  0.286  1.739          0  \n",
      "1     0     0     0     0  5.000  0.384  0.522  1.500          0  \n",
      "2     0     0     0     0  4.459  0.636  0.375  0.747          0  \n",
      "3     0     0     0     0  4.392  0.460  0.353  1.727          0  \n",
      "4     0     0     0     0  4.700  0.546  0.316  1.137          0  \n",
      "\n",
      "[5 rows x 778 columns]\n",
      "   D001  D002  D003  D004  D005  D006  D007  D008  D009  D010  ...  D769  \\\n",
      "0     2     0     0     0     3     0     0     0     0     0  ...     0   \n",
      "1     2     0     0     0     3     0     0     0     0     0  ...     0   \n",
      "2     1     0     0     1     2     0     0     0     0     0  ...     0   \n",
      "3     1     0     0     0     3     0     0     0     0     0  ...     0   \n",
      "4     1     0     0     1     2     0     0     0     0     0  ...     0   \n",
      "\n",
      "   D770  D771  D772  D773   D774   D775   D776   D777  Indicator  \n",
      "0     0     0     0     0  5.129 -0.686  0.480  1.489          1  \n",
      "1     0     0     0     0  5.087 -0.717  0.500  1.099          1  \n",
      "2     0     0     0     0  4.858 -0.640  0.273  2.281          1  \n",
      "3     0     0     0     0  5.000  0.354  0.250  1.427          1  \n",
      "4     0     0     0     0  5.209 -0.249  0.200  1.261          1  \n",
      "\n",
      "[5 rows x 778 columns]\n"
     ]
    }
   ],
   "source": [
    "print(inhibitors.head())\n",
    "print(activators.head())"
   ]
  },
  {
   "cell_type": "code",
   "execution_count": 167,
   "id": "0cdf7b41",
   "metadata": {},
   "outputs": [
    {
     "data": {
      "text/plain": [
       "(1165, 778)"
      ]
     },
     "metadata": {},
     "output_type": "display_data"
    },
    {
     "data": {
      "text/plain": [
       "(715, 778)"
      ]
     },
     "metadata": {},
     "output_type": "display_data"
    }
   ],
   "source": [
    "display(inhibitors.shape,activators.shape)"
   ]
  },
  {
   "cell_type": "code",
   "execution_count": 168,
   "id": "f8e374a7",
   "metadata": {},
   "outputs": [
    {
     "data": {
      "text/plain": [
       "(1880, 778)"
      ]
     },
     "execution_count": 168,
     "metadata": {},
     "output_type": "execute_result"
    }
   ],
   "source": [
    "#Merging data\n",
    "data = pd.concat([inhibitors, activators])\n",
    "data.shape"
   ]
  },
  {
   "cell_type": "code",
   "execution_count": 169,
   "id": "0dafdd2a",
   "metadata": {},
   "outputs": [
    {
     "data": {
      "text/html": [
       "<div>\n",
       "<style scoped>\n",
       "    .dataframe tbody tr th:only-of-type {\n",
       "        vertical-align: middle;\n",
       "    }\n",
       "\n",
       "    .dataframe tbody tr th {\n",
       "        vertical-align: top;\n",
       "    }\n",
       "\n",
       "    .dataframe thead th {\n",
       "        text-align: right;\n",
       "    }\n",
       "</style>\n",
       "<table border=\"1\" class=\"dataframe\">\n",
       "  <thead>\n",
       "    <tr style=\"text-align: right;\">\n",
       "      <th></th>\n",
       "      <th>D001</th>\n",
       "      <th>D002</th>\n",
       "      <th>D003</th>\n",
       "      <th>D004</th>\n",
       "      <th>D005</th>\n",
       "      <th>D006</th>\n",
       "      <th>D007</th>\n",
       "      <th>D008</th>\n",
       "      <th>D009</th>\n",
       "      <th>D010</th>\n",
       "      <th>...</th>\n",
       "      <th>D769</th>\n",
       "      <th>D770</th>\n",
       "      <th>D771</th>\n",
       "      <th>D772</th>\n",
       "      <th>D773</th>\n",
       "      <th>D774</th>\n",
       "      <th>D775</th>\n",
       "      <th>D776</th>\n",
       "      <th>D777</th>\n",
       "      <th>Indicator</th>\n",
       "    </tr>\n",
       "  </thead>\n",
       "  <tbody>\n",
       "    <tr>\n",
       "      <th>0</th>\n",
       "      <td>1</td>\n",
       "      <td>0</td>\n",
       "      <td>0</td>\n",
       "      <td>1</td>\n",
       "      <td>1</td>\n",
       "      <td>0</td>\n",
       "      <td>0</td>\n",
       "      <td>0</td>\n",
       "      <td>0</td>\n",
       "      <td>0</td>\n",
       "      <td>...</td>\n",
       "      <td>0</td>\n",
       "      <td>0</td>\n",
       "      <td>0</td>\n",
       "      <td>0</td>\n",
       "      <td>0</td>\n",
       "      <td>4.755</td>\n",
       "      <td>0.515</td>\n",
       "      <td>0.286</td>\n",
       "      <td>1.739</td>\n",
       "      <td>0</td>\n",
       "    </tr>\n",
       "    <tr>\n",
       "      <th>1</th>\n",
       "      <td>2</td>\n",
       "      <td>0</td>\n",
       "      <td>0</td>\n",
       "      <td>1</td>\n",
       "      <td>2</td>\n",
       "      <td>0</td>\n",
       "      <td>0</td>\n",
       "      <td>0</td>\n",
       "      <td>0</td>\n",
       "      <td>0</td>\n",
       "      <td>...</td>\n",
       "      <td>0</td>\n",
       "      <td>0</td>\n",
       "      <td>0</td>\n",
       "      <td>0</td>\n",
       "      <td>0</td>\n",
       "      <td>5.000</td>\n",
       "      <td>0.384</td>\n",
       "      <td>0.522</td>\n",
       "      <td>1.500</td>\n",
       "      <td>0</td>\n",
       "    </tr>\n",
       "    <tr>\n",
       "      <th>2</th>\n",
       "      <td>1</td>\n",
       "      <td>0</td>\n",
       "      <td>0</td>\n",
       "      <td>1</td>\n",
       "      <td>1</td>\n",
       "      <td>0</td>\n",
       "      <td>0</td>\n",
       "      <td>0</td>\n",
       "      <td>0</td>\n",
       "      <td>0</td>\n",
       "      <td>...</td>\n",
       "      <td>0</td>\n",
       "      <td>0</td>\n",
       "      <td>0</td>\n",
       "      <td>0</td>\n",
       "      <td>0</td>\n",
       "      <td>4.459</td>\n",
       "      <td>0.636</td>\n",
       "      <td>0.375</td>\n",
       "      <td>0.747</td>\n",
       "      <td>0</td>\n",
       "    </tr>\n",
       "    <tr>\n",
       "      <th>3</th>\n",
       "      <td>1</td>\n",
       "      <td>0</td>\n",
       "      <td>0</td>\n",
       "      <td>0</td>\n",
       "      <td>2</td>\n",
       "      <td>0</td>\n",
       "      <td>0</td>\n",
       "      <td>0</td>\n",
       "      <td>0</td>\n",
       "      <td>0</td>\n",
       "      <td>...</td>\n",
       "      <td>0</td>\n",
       "      <td>0</td>\n",
       "      <td>0</td>\n",
       "      <td>0</td>\n",
       "      <td>0</td>\n",
       "      <td>4.392</td>\n",
       "      <td>0.460</td>\n",
       "      <td>0.353</td>\n",
       "      <td>1.727</td>\n",
       "      <td>0</td>\n",
       "    </tr>\n",
       "    <tr>\n",
       "      <th>4</th>\n",
       "      <td>1</td>\n",
       "      <td>0</td>\n",
       "      <td>0</td>\n",
       "      <td>0</td>\n",
       "      <td>2</td>\n",
       "      <td>0</td>\n",
       "      <td>0</td>\n",
       "      <td>0</td>\n",
       "      <td>0</td>\n",
       "      <td>0</td>\n",
       "      <td>...</td>\n",
       "      <td>0</td>\n",
       "      <td>0</td>\n",
       "      <td>0</td>\n",
       "      <td>0</td>\n",
       "      <td>0</td>\n",
       "      <td>4.700</td>\n",
       "      <td>0.546</td>\n",
       "      <td>0.316</td>\n",
       "      <td>1.137</td>\n",
       "      <td>0</td>\n",
       "    </tr>\n",
       "  </tbody>\n",
       "</table>\n",
       "<p>5 rows × 778 columns</p>\n",
       "</div>"
      ],
      "text/plain": [
       "   D001  D002  D003  D004  D005  D006  D007  D008  D009  D010  ...  D769  \\\n",
       "0     1     0     0     1     1     0     0     0     0     0  ...     0   \n",
       "1     2     0     0     1     2     0     0     0     0     0  ...     0   \n",
       "2     1     0     0     1     1     0     0     0     0     0  ...     0   \n",
       "3     1     0     0     0     2     0     0     0     0     0  ...     0   \n",
       "4     1     0     0     0     2     0     0     0     0     0  ...     0   \n",
       "\n",
       "   D770  D771  D772  D773   D774   D775   D776   D777  Indicator  \n",
       "0     0     0     0     0  4.755  0.515  0.286  1.739          0  \n",
       "1     0     0     0     0  5.000  0.384  0.522  1.500          0  \n",
       "2     0     0     0     0  4.459  0.636  0.375  0.747          0  \n",
       "3     0     0     0     0  4.392  0.460  0.353  1.727          0  \n",
       "4     0     0     0     0  4.700  0.546  0.316  1.137          0  \n",
       "\n",
       "[5 rows x 778 columns]"
      ]
     },
     "execution_count": 169,
     "metadata": {},
     "output_type": "execute_result"
    }
   ],
   "source": [
    "data.head()"
   ]
  },
  {
   "cell_type": "code",
   "execution_count": null,
   "id": "23617488",
   "metadata": {},
   "outputs": [],
   "source": [
    "\n"
   ]
  },
  {
   "cell_type": "code",
   "execution_count": 170,
   "id": "27387338",
   "metadata": {},
   "outputs": [],
   "source": [
    "#Independent variables\n",
    "x = data.drop(['Indicator'], axis=1)"
   ]
  },
  {
   "cell_type": "code",
   "execution_count": 171,
   "id": "5967e76e",
   "metadata": {},
   "outputs": [],
   "source": [
    "#Dependent variables\n",
    "y = data['Indicator']"
   ]
  },
  {
   "cell_type": "code",
   "execution_count": 172,
   "id": "58070ff7",
   "metadata": {},
   "outputs": [],
   "source": [
    "#print(data.describe())"
   ]
  },
  {
   "cell_type": "code",
   "execution_count": 173,
   "id": "5bce05cc",
   "metadata": {},
   "outputs": [],
   "source": [
    "#y.head()"
   ]
  },
  {
   "cell_type": "code",
   "execution_count": 174,
   "id": "9d073c77",
   "metadata": {},
   "outputs": [],
   "source": [
    "#Importing train_test_split function\n",
    "from sklearn.model_selection import train_test_split"
   ]
  },
  {
   "cell_type": "code",
   "execution_count": 175,
   "id": "cf658cde",
   "metadata": {},
   "outputs": [],
   "source": [
    "#Dividing data into train and test sets\n",
    "#train_x, test_x, train_y, test_y = train_test_split(x,y, random_state = 101, stratify = y)\n",
    "train_x, rem_x, train_y, rem_y = train_test_split(x,y, train_size = 0.3)\n"
   ]
  },
  {
   "cell_type": "code",
   "execution_count": 176,
   "id": "09d732a1",
   "metadata": {},
   "outputs": [],
   "source": [
    "train_x, valid_x, train_y, valid_y = train_test_split(x,y, test_size = 0.3)"
   ]
  },
  {
   "cell_type": "code",
   "execution_count": 177,
   "id": "7edfc939",
   "metadata": {
    "scrolled": true
   },
   "outputs": [
    {
     "data": {
      "text/html": [
       "<div>\n",
       "<style scoped>\n",
       "    .dataframe tbody tr th:only-of-type {\n",
       "        vertical-align: middle;\n",
       "    }\n",
       "\n",
       "    .dataframe tbody tr th {\n",
       "        vertical-align: top;\n",
       "    }\n",
       "\n",
       "    .dataframe thead th {\n",
       "        text-align: right;\n",
       "    }\n",
       "</style>\n",
       "<table border=\"1\" class=\"dataframe\">\n",
       "  <thead>\n",
       "    <tr style=\"text-align: right;\">\n",
       "      <th></th>\n",
       "      <th>D001</th>\n",
       "      <th>D002</th>\n",
       "      <th>D003</th>\n",
       "      <th>D004</th>\n",
       "      <th>D005</th>\n",
       "      <th>D006</th>\n",
       "      <th>D007</th>\n",
       "      <th>D008</th>\n",
       "      <th>D009</th>\n",
       "      <th>D010</th>\n",
       "      <th>...</th>\n",
       "      <th>D768</th>\n",
       "      <th>D769</th>\n",
       "      <th>D770</th>\n",
       "      <th>D771</th>\n",
       "      <th>D772</th>\n",
       "      <th>D773</th>\n",
       "      <th>D774</th>\n",
       "      <th>D775</th>\n",
       "      <th>D776</th>\n",
       "      <th>D777</th>\n",
       "    </tr>\n",
       "  </thead>\n",
       "  <tbody>\n",
       "    <tr>\n",
       "      <th>527</th>\n",
       "      <td>2</td>\n",
       "      <td>0</td>\n",
       "      <td>0</td>\n",
       "      <td>1</td>\n",
       "      <td>2</td>\n",
       "      <td>0</td>\n",
       "      <td>0</td>\n",
       "      <td>0</td>\n",
       "      <td>0</td>\n",
       "      <td>0</td>\n",
       "      <td>...</td>\n",
       "      <td>0</td>\n",
       "      <td>0</td>\n",
       "      <td>1</td>\n",
       "      <td>0</td>\n",
       "      <td>0</td>\n",
       "      <td>0</td>\n",
       "      <td>5.209</td>\n",
       "      <td>-0.722</td>\n",
       "      <td>0.429</td>\n",
       "      <td>1.926</td>\n",
       "    </tr>\n",
       "    <tr>\n",
       "      <th>1000</th>\n",
       "      <td>1</td>\n",
       "      <td>0</td>\n",
       "      <td>0</td>\n",
       "      <td>1</td>\n",
       "      <td>2</td>\n",
       "      <td>0</td>\n",
       "      <td>0</td>\n",
       "      <td>0</td>\n",
       "      <td>0</td>\n",
       "      <td>0</td>\n",
       "      <td>...</td>\n",
       "      <td>0</td>\n",
       "      <td>0</td>\n",
       "      <td>0</td>\n",
       "      <td>0</td>\n",
       "      <td>0</td>\n",
       "      <td>0</td>\n",
       "      <td>4.907</td>\n",
       "      <td>-0.610</td>\n",
       "      <td>0.261</td>\n",
       "      <td>0.852</td>\n",
       "    </tr>\n",
       "    <tr>\n",
       "      <th>571</th>\n",
       "      <td>1</td>\n",
       "      <td>0</td>\n",
       "      <td>0</td>\n",
       "      <td>2</td>\n",
       "      <td>2</td>\n",
       "      <td>0</td>\n",
       "      <td>0</td>\n",
       "      <td>0</td>\n",
       "      <td>0</td>\n",
       "      <td>0</td>\n",
       "      <td>...</td>\n",
       "      <td>0</td>\n",
       "      <td>0</td>\n",
       "      <td>0</td>\n",
       "      <td>0</td>\n",
       "      <td>0</td>\n",
       "      <td>0</td>\n",
       "      <td>5.358</td>\n",
       "      <td>-0.265</td>\n",
       "      <td>0.188</td>\n",
       "      <td>0.045</td>\n",
       "    </tr>\n",
       "    <tr>\n",
       "      <th>594</th>\n",
       "      <td>2</td>\n",
       "      <td>0</td>\n",
       "      <td>0</td>\n",
       "      <td>1</td>\n",
       "      <td>4</td>\n",
       "      <td>0</td>\n",
       "      <td>0</td>\n",
       "      <td>0</td>\n",
       "      <td>0</td>\n",
       "      <td>0</td>\n",
       "      <td>...</td>\n",
       "      <td>0</td>\n",
       "      <td>0</td>\n",
       "      <td>0</td>\n",
       "      <td>0</td>\n",
       "      <td>0</td>\n",
       "      <td>0</td>\n",
       "      <td>5.285</td>\n",
       "      <td>-0.830</td>\n",
       "      <td>0.414</td>\n",
       "      <td>3.992</td>\n",
       "    </tr>\n",
       "    <tr>\n",
       "      <th>1087</th>\n",
       "      <td>1</td>\n",
       "      <td>0</td>\n",
       "      <td>0</td>\n",
       "      <td>2</td>\n",
       "      <td>3</td>\n",
       "      <td>0</td>\n",
       "      <td>0</td>\n",
       "      <td>0</td>\n",
       "      <td>0</td>\n",
       "      <td>0</td>\n",
       "      <td>...</td>\n",
       "      <td>0</td>\n",
       "      <td>0</td>\n",
       "      <td>0</td>\n",
       "      <td>0</td>\n",
       "      <td>0</td>\n",
       "      <td>0</td>\n",
       "      <td>5.459</td>\n",
       "      <td>-0.785</td>\n",
       "      <td>0.182</td>\n",
       "      <td>2.128</td>\n",
       "    </tr>\n",
       "  </tbody>\n",
       "</table>\n",
       "<p>5 rows × 777 columns</p>\n",
       "</div>"
      ],
      "text/plain": [
       "      D001  D002  D003  D004  D005  D006  D007  D008  D009  D010  ...  D768  \\\n",
       "527      2     0     0     1     2     0     0     0     0     0  ...     0   \n",
       "1000     1     0     0     1     2     0     0     0     0     0  ...     0   \n",
       "571      1     0     0     2     2     0     0     0     0     0  ...     0   \n",
       "594      2     0     0     1     4     0     0     0     0     0  ...     0   \n",
       "1087     1     0     0     2     3     0     0     0     0     0  ...     0   \n",
       "\n",
       "      D769  D770  D771  D772  D773   D774   D775   D776   D777  \n",
       "527      0     1     0     0     0  5.209 -0.722  0.429  1.926  \n",
       "1000     0     0     0     0     0  4.907 -0.610  0.261  0.852  \n",
       "571      0     0     0     0     0  5.358 -0.265  0.188  0.045  \n",
       "594      0     0     0     0     0  5.285 -0.830  0.414  3.992  \n",
       "1087     0     0     0     0     0  5.459 -0.785  0.182  2.128  \n",
       "\n",
       "[5 rows x 777 columns]"
      ]
     },
     "execution_count": 177,
     "metadata": {},
     "output_type": "execute_result"
    }
   ],
   "source": [
    "train_x.head()"
   ]
  },
  {
   "cell_type": "markdown",
   "id": "b1bac8c5",
   "metadata": {},
   "source": [
    "## Decision Tree"
   ]
  },
  {
   "cell_type": "code",
   "execution_count": 178,
   "id": "9f253167",
   "metadata": {},
   "outputs": [],
   "source": [
    "#Importing AdaBoost Classifier\n",
    "from sklearn.ensemble import AdaBoostClassifier"
   ]
  },
  {
   "cell_type": "code",
   "execution_count": 179,
   "id": "4f415b46",
   "metadata": {},
   "outputs": [],
   "source": [
    "#Creating an AdaBoost Instance\n",
    "clf = AdaBoostClassifier(n_estimators=50, learning_rate=1, random_state=0)\n",
    "\n",
    "model1 = clf.fit(train_x, train_y)\n",
    "\n",
    "y_prediction = model1.predict(test_x)"
   ]
  },
  {
   "cell_type": "code",
   "execution_count": 180,
   "id": "b7696275",
   "metadata": {},
   "outputs": [],
   "source": [
    "#clf.score(test_x, test_y)"
   ]
  },
  {
   "cell_type": "code",
   "execution_count": 181,
   "id": "b5b8417f",
   "metadata": {},
   "outputs": [
    {
     "name": "stdout",
     "output_type": "stream",
     "text": [
      "AdaBoost Classifier Model Accuracy: 0.9308510638297872\n"
     ]
    }
   ],
   "source": [
    "#import scikit-learn metrics module for accuracy calculation\n",
    "from sklearn.metrics import accuracy_score\n",
    "\n",
    "# calculate and print model accuracy\n",
    "print(\"AdaBoost Classifier Model Accuracy:\", accuracy_score(test_y, y_prediction))"
   ]
  },
  {
   "cell_type": "markdown",
   "id": "29056c6e",
   "metadata": {},
   "source": [
    "## RandomForest"
   ]
  },
  {
   "cell_type": "code",
   "execution_count": 132,
   "id": "f4525f54",
   "metadata": {},
   "outputs": [],
   "source": [
    "from sklearn.ensemble import RandomForestClassifier\n",
    "clf1 = AdaBoostClassifier(random_state=96, base_estimator=RandomForestClassifier(random_state = 101), n_estimators=150, learning_rate=1)\n",
    "\n",
    "model2 = clf1.fit(train_x, train_y)\n",
    "\n",
    "y_prediction2 = model2.predict(test_x)"
   ]
  },
  {
   "cell_type": "code",
   "execution_count": 151,
   "id": "580da543",
   "metadata": {},
   "outputs": [
    {
     "name": "stdout",
     "output_type": "stream",
     "text": [
      "AdaBoost Classifier with RadomForest Model Accuracy: 0.9609929078014184\n"
     ]
    }
   ],
   "source": [
    "# calculate and print model accuracy\n",
    "print(\"AdaBoost Classifier with RadomForest Model Accuracy:\", accuracy_score(test_y, y_prediction2))"
   ]
  },
  {
   "cell_type": "markdown",
   "id": "c7a06587",
   "metadata": {},
   "source": [
    "## SVM"
   ]
  },
  {
   "cell_type": "code",
   "execution_count": 158,
   "id": "204f9a62",
   "metadata": {},
   "outputs": [],
   "source": [
    "#Evaluating the model using svc base estimator\n",
    "from sklearn import svm\n",
    "\n",
    "# import scikit-learn metrics module for accuracy calculation\n",
    "from sklearn.metrics import accuracy_score\n",
    "#svc = SVC(probability = True, kernel = 'linear')\n",
    "\n",
    "# create adaboost classifer object\n",
    "clf1 = AdaBoostClassifier(svm.SVC(kernel='linear', gamma='auto', C=2), n_estimators=50, learning_rate=1.0, algorithm='SAMME')\n",
    "#clf1 = AdaBoostClassifier(svm.SVC(probability=True,kernel='linear'), n_estimators=50, learning_rate=1.0, algorithm='SAMME')\n",
    "#clf1 = SVMEnsemble(n_estimators=20, **params)\n",
    "\n"
   ]
  },
  {
   "cell_type": "code",
   "execution_count": 160,
   "id": "4e4d201c",
   "metadata": {},
   "outputs": [],
   "source": [
    "# train adaboost classifier\n",
    "#model2 = clf1.fit(train_x, train_y)"
   ]
  },
  {
   "cell_type": "code",
   "execution_count": null,
   "id": "9e261a53",
   "metadata": {},
   "outputs": [],
   "source": [
    "# predict the response for test dataset\n",
    "y_prediction2 = model2.predict(test_x)"
   ]
  },
  {
   "cell_type": "code",
   "execution_count": null,
   "id": "059ec359",
   "metadata": {},
   "outputs": [],
   "source": [
    "# calculate and print model accuracy\n",
    "print(\"Model Accuracy with SVC Base Estimator:\", accuracy_score(y_test, y_pred))"
   ]
  },
  {
   "cell_type": "code",
   "execution_count": null,
   "id": "46a84adb",
   "metadata": {},
   "outputs": [],
   "source": []
  }
 ],
 "metadata": {
  "kernelspec": {
   "display_name": "Python 3 (ipykernel)",
   "language": "python",
   "name": "python3"
  },
  "language_info": {
   "codemirror_mode": {
    "name": "ipython",
    "version": 3
   },
   "file_extension": ".py",
   "mimetype": "text/x-python",
   "name": "python",
   "nbconvert_exporter": "python",
   "pygments_lexer": "ipython3",
   "version": "3.9.7"
  }
 },
 "nbformat": 4,
 "nbformat_minor": 5
}
