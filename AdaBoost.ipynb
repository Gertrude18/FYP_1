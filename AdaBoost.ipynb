{
 "cells": [
  {
   "cell_type": "code",
   "execution_count": 2,
   "id": "e5eed383",
   "metadata": {},
   "outputs": [],
   "source": [
    "#Importing libraries\n",
    "import numpy as np\n",
    "import pandas as pd"
   ]
  },
  {
   "cell_type": "code",
   "execution_count": 3,
   "id": "f7860382",
   "metadata": {},
   "outputs": [],
   "source": [
    "#Reading the dataset\n",
    "df=pd.read_csv('inhibitors1.csv')"
   ]
  },
  {
   "cell_type": "code",
   "execution_count": 4,
   "id": "20c944e9",
   "metadata": {},
   "outputs": [],
   "source": [
    "#Reading the dataset\n",
    "df1=pd.read_csv('activators.csv')"
   ]
  },
  {
   "cell_type": "code",
   "execution_count": 5,
   "id": "bc5dc60f",
   "metadata": {},
   "outputs": [
    {
     "name": "stdout",
     "output_type": "stream",
     "text": [
      "   ReadIn_ID  USER_ID  D001  D002  D003  D004  D005  D006  D007  D008  ...  \\\n",
      "0          1      NaN     1     0     0     1     1     0     0     0  ...   \n",
      "1          2      NaN     2     0     0     1     2     0     0     0  ...   \n",
      "2          3      NaN     1     0     0     1     1     0     0     0  ...   \n",
      "3          4      NaN     1     0     0     0     2     0     0     0  ...   \n",
      "4          5      NaN     1     0     0     0     2     0     0     0  ...   \n",
      "\n",
      "   D769  D770  D771  D772  D773   D774   D775   D776   D777  Indicator  \n",
      "0     0     0     0     0     0  4.755  0.515  0.286  1.739          0  \n",
      "1     0     0     0     0     0  5.000  0.384  0.522  1.500          0  \n",
      "2     0     0     0     0     0  4.459  0.636  0.375  0.747          0  \n",
      "3     0     0     0     0     0  4.392  0.460  0.353  1.727          0  \n",
      "4     0     0     0     0     0  4.700  0.546  0.316  1.137          0  \n",
      "\n",
      "[5 rows x 780 columns]\n",
      "   ReadIn_ID  USER_ID  D001  D002  D003  D004  D005  D006  D007  D008  ...  \\\n",
      "0          1      NaN     2     0     0     0     3     0     0     0  ...   \n",
      "1          2      NaN     2     0     0     0     3     0     0     0  ...   \n",
      "2          3      NaN     1     0     0     1     2     0     0     0  ...   \n",
      "3          4      NaN     1     0     0     0     3     0     0     0  ...   \n",
      "4          5      NaN     1     0     0     1     2     0     0     0  ...   \n",
      "\n",
      "   D769  D770  D771  D772  D773   D774   D775   D776   D777  Indicator  \n",
      "0     0     0     0     0     0  5.129 -0.686  0.480  1.489          1  \n",
      "1     0     0     0     0     0  5.087 -0.717  0.500  1.099          1  \n",
      "2     0     0     0     0     0  4.858 -0.640  0.273  2.281          1  \n",
      "3     0     0     0     0     0  5.000  0.354  0.250  1.427          1  \n",
      "4     0     0     0     0     0  5.209 -0.249  0.200  1.261          1  \n",
      "\n",
      "[5 rows x 780 columns]\n"
     ]
    }
   ],
   "source": [
    "print(df.head())\n",
    "print(df1.head())"
   ]
  },
  {
   "cell_type": "code",
   "execution_count": 6,
   "id": "3a9b9429",
   "metadata": {},
   "outputs": [],
   "source": [
    "#Independent variable\n",
    "inhibitors = df.drop(columns = ['ReadIn_ID', 'USER_ID'])\n",
    "activators = df1.drop(columns = ['ReadIn_ID', 'USER_ID']) "
   ]
  },
  {
   "cell_type": "code",
   "execution_count": 7,
   "id": "4121935c",
   "metadata": {},
   "outputs": [
    {
     "name": "stdout",
     "output_type": "stream",
     "text": [
      "   D001  D002  D003  D004  D005  D006  D007  D008  D009  D010  ...  D769  \\\n",
      "0     1     0     0     1     1     0     0     0     0     0  ...     0   \n",
      "1     2     0     0     1     2     0     0     0     0     0  ...     0   \n",
      "2     1     0     0     1     1     0     0     0     0     0  ...     0   \n",
      "3     1     0     0     0     2     0     0     0     0     0  ...     0   \n",
      "4     1     0     0     0     2     0     0     0     0     0  ...     0   \n",
      "\n",
      "   D770  D771  D772  D773   D774   D775   D776   D777  Indicator  \n",
      "0     0     0     0     0  4.755  0.515  0.286  1.739          0  \n",
      "1     0     0     0     0  5.000  0.384  0.522  1.500          0  \n",
      "2     0     0     0     0  4.459  0.636  0.375  0.747          0  \n",
      "3     0     0     0     0  4.392  0.460  0.353  1.727          0  \n",
      "4     0     0     0     0  4.700  0.546  0.316  1.137          0  \n",
      "\n",
      "[5 rows x 778 columns]\n",
      "   D001  D002  D003  D004  D005  D006  D007  D008  D009  D010  ...  D769  \\\n",
      "0     2     0     0     0     3     0     0     0     0     0  ...     0   \n",
      "1     2     0     0     0     3     0     0     0     0     0  ...     0   \n",
      "2     1     0     0     1     2     0     0     0     0     0  ...     0   \n",
      "3     1     0     0     0     3     0     0     0     0     0  ...     0   \n",
      "4     1     0     0     1     2     0     0     0     0     0  ...     0   \n",
      "\n",
      "   D770  D771  D772  D773   D774   D775   D776   D777  Indicator  \n",
      "0     0     0     0     0  5.129 -0.686  0.480  1.489          1  \n",
      "1     0     0     0     0  5.087 -0.717  0.500  1.099          1  \n",
      "2     0     0     0     0  4.858 -0.640  0.273  2.281          1  \n",
      "3     0     0     0     0  5.000  0.354  0.250  1.427          1  \n",
      "4     0     0     0     0  5.209 -0.249  0.200  1.261          1  \n",
      "\n",
      "[5 rows x 778 columns]\n"
     ]
    }
   ],
   "source": [
    "print(inhibitors.head())\n",
    "print(activators.head())"
   ]
  },
  {
   "cell_type": "code",
   "execution_count": 8,
   "id": "0cdf7b41",
   "metadata": {},
   "outputs": [
    {
     "data": {
      "text/plain": [
       "(1165, 778)"
      ]
     },
     "metadata": {},
     "output_type": "display_data"
    },
    {
     "data": {
      "text/plain": [
       "(715, 778)"
      ]
     },
     "metadata": {},
     "output_type": "display_data"
    }
   ],
   "source": [
    "display(inhibitors.shape,activators.shape)"
   ]
  },
  {
   "cell_type": "code",
   "execution_count": 9,
   "id": "f8e374a7",
   "metadata": {},
   "outputs": [
    {
     "data": {
      "text/plain": [
       "(1880, 778)"
      ]
     },
     "execution_count": 9,
     "metadata": {},
     "output_type": "execute_result"
    }
   ],
   "source": [
    "#Merging data\n",
    "data = pd.concat([inhibitors, activators])\n",
    "data.shape"
   ]
  },
  {
   "cell_type": "code",
   "execution_count": 10,
   "id": "0dafdd2a",
   "metadata": {},
   "outputs": [
    {
     "data": {
      "text/html": [
       "<div>\n",
       "<style scoped>\n",
       "    .dataframe tbody tr th:only-of-type {\n",
       "        vertical-align: middle;\n",
       "    }\n",
       "\n",
       "    .dataframe tbody tr th {\n",
       "        vertical-align: top;\n",
       "    }\n",
       "\n",
       "    .dataframe thead th {\n",
       "        text-align: right;\n",
       "    }\n",
       "</style>\n",
       "<table border=\"1\" class=\"dataframe\">\n",
       "  <thead>\n",
       "    <tr style=\"text-align: right;\">\n",
       "      <th></th>\n",
       "      <th>D001</th>\n",
       "      <th>D002</th>\n",
       "      <th>D003</th>\n",
       "      <th>D004</th>\n",
       "      <th>D005</th>\n",
       "      <th>D006</th>\n",
       "      <th>D007</th>\n",
       "      <th>D008</th>\n",
       "      <th>D009</th>\n",
       "      <th>D010</th>\n",
       "      <th>...</th>\n",
       "      <th>D769</th>\n",
       "      <th>D770</th>\n",
       "      <th>D771</th>\n",
       "      <th>D772</th>\n",
       "      <th>D773</th>\n",
       "      <th>D774</th>\n",
       "      <th>D775</th>\n",
       "      <th>D776</th>\n",
       "      <th>D777</th>\n",
       "      <th>Indicator</th>\n",
       "    </tr>\n",
       "  </thead>\n",
       "  <tbody>\n",
       "    <tr>\n",
       "      <th>0</th>\n",
       "      <td>1</td>\n",
       "      <td>0</td>\n",
       "      <td>0</td>\n",
       "      <td>1</td>\n",
       "      <td>1</td>\n",
       "      <td>0</td>\n",
       "      <td>0</td>\n",
       "      <td>0</td>\n",
       "      <td>0</td>\n",
       "      <td>0</td>\n",
       "      <td>...</td>\n",
       "      <td>0</td>\n",
       "      <td>0</td>\n",
       "      <td>0</td>\n",
       "      <td>0</td>\n",
       "      <td>0</td>\n",
       "      <td>4.755</td>\n",
       "      <td>0.515</td>\n",
       "      <td>0.286</td>\n",
       "      <td>1.739</td>\n",
       "      <td>0</td>\n",
       "    </tr>\n",
       "    <tr>\n",
       "      <th>1</th>\n",
       "      <td>2</td>\n",
       "      <td>0</td>\n",
       "      <td>0</td>\n",
       "      <td>1</td>\n",
       "      <td>2</td>\n",
       "      <td>0</td>\n",
       "      <td>0</td>\n",
       "      <td>0</td>\n",
       "      <td>0</td>\n",
       "      <td>0</td>\n",
       "      <td>...</td>\n",
       "      <td>0</td>\n",
       "      <td>0</td>\n",
       "      <td>0</td>\n",
       "      <td>0</td>\n",
       "      <td>0</td>\n",
       "      <td>5.000</td>\n",
       "      <td>0.384</td>\n",
       "      <td>0.522</td>\n",
       "      <td>1.500</td>\n",
       "      <td>0</td>\n",
       "    </tr>\n",
       "    <tr>\n",
       "      <th>2</th>\n",
       "      <td>1</td>\n",
       "      <td>0</td>\n",
       "      <td>0</td>\n",
       "      <td>1</td>\n",
       "      <td>1</td>\n",
       "      <td>0</td>\n",
       "      <td>0</td>\n",
       "      <td>0</td>\n",
       "      <td>0</td>\n",
       "      <td>0</td>\n",
       "      <td>...</td>\n",
       "      <td>0</td>\n",
       "      <td>0</td>\n",
       "      <td>0</td>\n",
       "      <td>0</td>\n",
       "      <td>0</td>\n",
       "      <td>4.459</td>\n",
       "      <td>0.636</td>\n",
       "      <td>0.375</td>\n",
       "      <td>0.747</td>\n",
       "      <td>0</td>\n",
       "    </tr>\n",
       "    <tr>\n",
       "      <th>3</th>\n",
       "      <td>1</td>\n",
       "      <td>0</td>\n",
       "      <td>0</td>\n",
       "      <td>0</td>\n",
       "      <td>2</td>\n",
       "      <td>0</td>\n",
       "      <td>0</td>\n",
       "      <td>0</td>\n",
       "      <td>0</td>\n",
       "      <td>0</td>\n",
       "      <td>...</td>\n",
       "      <td>0</td>\n",
       "      <td>0</td>\n",
       "      <td>0</td>\n",
       "      <td>0</td>\n",
       "      <td>0</td>\n",
       "      <td>4.392</td>\n",
       "      <td>0.460</td>\n",
       "      <td>0.353</td>\n",
       "      <td>1.727</td>\n",
       "      <td>0</td>\n",
       "    </tr>\n",
       "    <tr>\n",
       "      <th>4</th>\n",
       "      <td>1</td>\n",
       "      <td>0</td>\n",
       "      <td>0</td>\n",
       "      <td>0</td>\n",
       "      <td>2</td>\n",
       "      <td>0</td>\n",
       "      <td>0</td>\n",
       "      <td>0</td>\n",
       "      <td>0</td>\n",
       "      <td>0</td>\n",
       "      <td>...</td>\n",
       "      <td>0</td>\n",
       "      <td>0</td>\n",
       "      <td>0</td>\n",
       "      <td>0</td>\n",
       "      <td>0</td>\n",
       "      <td>4.700</td>\n",
       "      <td>0.546</td>\n",
       "      <td>0.316</td>\n",
       "      <td>1.137</td>\n",
       "      <td>0</td>\n",
       "    </tr>\n",
       "  </tbody>\n",
       "</table>\n",
       "<p>5 rows × 778 columns</p>\n",
       "</div>"
      ],
      "text/plain": [
       "   D001  D002  D003  D004  D005  D006  D007  D008  D009  D010  ...  D769  \\\n",
       "0     1     0     0     1     1     0     0     0     0     0  ...     0   \n",
       "1     2     0     0     1     2     0     0     0     0     0  ...     0   \n",
       "2     1     0     0     1     1     0     0     0     0     0  ...     0   \n",
       "3     1     0     0     0     2     0     0     0     0     0  ...     0   \n",
       "4     1     0     0     0     2     0     0     0     0     0  ...     0   \n",
       "\n",
       "   D770  D771  D772  D773   D774   D775   D776   D777  Indicator  \n",
       "0     0     0     0     0  4.755  0.515  0.286  1.739          0  \n",
       "1     0     0     0     0  5.000  0.384  0.522  1.500          0  \n",
       "2     0     0     0     0  4.459  0.636  0.375  0.747          0  \n",
       "3     0     0     0     0  4.392  0.460  0.353  1.727          0  \n",
       "4     0     0     0     0  4.700  0.546  0.316  1.137          0  \n",
       "\n",
       "[5 rows x 778 columns]"
      ]
     },
     "execution_count": 10,
     "metadata": {},
     "output_type": "execute_result"
    }
   ],
   "source": [
    "data.head()"
   ]
  },
  {
   "cell_type": "code",
   "execution_count": null,
   "id": "23617488",
   "metadata": {},
   "outputs": [],
   "source": [
    "\n"
   ]
  },
  {
   "cell_type": "code",
   "execution_count": 11,
   "id": "27387338",
   "metadata": {},
   "outputs": [],
   "source": [
    "#Independent variables\n",
    "x = data.drop(['Indicator'], axis=1)"
   ]
  },
  {
   "cell_type": "code",
   "execution_count": 12,
   "id": "5967e76e",
   "metadata": {},
   "outputs": [],
   "source": [
    "#Dependent variables\n",
    "y = data['Indicator']"
   ]
  },
  {
   "cell_type": "code",
   "execution_count": 13,
   "id": "58070ff7",
   "metadata": {},
   "outputs": [],
   "source": [
    "#print(data.describe())"
   ]
  },
  {
   "cell_type": "code",
   "execution_count": 14,
   "id": "5bce05cc",
   "metadata": {},
   "outputs": [],
   "source": [
    "#y.head()"
   ]
  },
  {
   "cell_type": "code",
   "execution_count": 15,
   "id": "9d073c77",
   "metadata": {},
   "outputs": [],
   "source": [
    "#Importing train_test_split function\n",
    "from sklearn.model_selection import train_test_split"
   ]
  },
  {
   "cell_type": "code",
   "execution_count": 16,
   "id": "cf658cde",
   "metadata": {},
   "outputs": [],
   "source": [
    "#Dividing data into train and test sets\n",
    "#train_x, test_x, train_y, test_y = train_test_split(x,y, random_state = 101, stratify = y)\n",
    "train_x, rem_x, train_y, rem_y = train_test_split(x,y, train_size = 0.3)\n"
   ]
  },
  {
   "cell_type": "code",
   "execution_count": 17,
   "id": "09d732a1",
   "metadata": {},
   "outputs": [],
   "source": [
    "train_x, valid_x, train_y, valid_y = train_test_split(x,y, test_size = 0.3)"
   ]
  },
  {
   "cell_type": "code",
   "execution_count": 18,
   "id": "7edfc939",
   "metadata": {
    "scrolled": true
   },
   "outputs": [
    {
     "data": {
      "text/html": [
       "<div>\n",
       "<style scoped>\n",
       "    .dataframe tbody tr th:only-of-type {\n",
       "        vertical-align: middle;\n",
       "    }\n",
       "\n",
       "    .dataframe tbody tr th {\n",
       "        vertical-align: top;\n",
       "    }\n",
       "\n",
       "    .dataframe thead th {\n",
       "        text-align: right;\n",
       "    }\n",
       "</style>\n",
       "<table border=\"1\" class=\"dataframe\">\n",
       "  <thead>\n",
       "    <tr style=\"text-align: right;\">\n",
       "      <th></th>\n",
       "      <th>D001</th>\n",
       "      <th>D002</th>\n",
       "      <th>D003</th>\n",
       "      <th>D004</th>\n",
       "      <th>D005</th>\n",
       "      <th>D006</th>\n",
       "      <th>D007</th>\n",
       "      <th>D008</th>\n",
       "      <th>D009</th>\n",
       "      <th>D010</th>\n",
       "      <th>...</th>\n",
       "      <th>D768</th>\n",
       "      <th>D769</th>\n",
       "      <th>D770</th>\n",
       "      <th>D771</th>\n",
       "      <th>D772</th>\n",
       "      <th>D773</th>\n",
       "      <th>D774</th>\n",
       "      <th>D775</th>\n",
       "      <th>D776</th>\n",
       "      <th>D777</th>\n",
       "    </tr>\n",
       "  </thead>\n",
       "  <tbody>\n",
       "    <tr>\n",
       "      <th>25</th>\n",
       "      <td>1</td>\n",
       "      <td>0</td>\n",
       "      <td>0</td>\n",
       "      <td>0</td>\n",
       "      <td>2</td>\n",
       "      <td>0</td>\n",
       "      <td>0</td>\n",
       "      <td>0</td>\n",
       "      <td>0</td>\n",
       "      <td>0</td>\n",
       "      <td>...</td>\n",
       "      <td>0</td>\n",
       "      <td>0</td>\n",
       "      <td>0</td>\n",
       "      <td>0</td>\n",
       "      <td>0</td>\n",
       "      <td>0</td>\n",
       "      <td>4.755</td>\n",
       "      <td>-0.146</td>\n",
       "      <td>0.273</td>\n",
       "      <td>1.547</td>\n",
       "    </tr>\n",
       "    <tr>\n",
       "      <th>781</th>\n",
       "      <td>1</td>\n",
       "      <td>0</td>\n",
       "      <td>0</td>\n",
       "      <td>2</td>\n",
       "      <td>2</td>\n",
       "      <td>0</td>\n",
       "      <td>0</td>\n",
       "      <td>0</td>\n",
       "      <td>0</td>\n",
       "      <td>0</td>\n",
       "      <td>...</td>\n",
       "      <td>0</td>\n",
       "      <td>0</td>\n",
       "      <td>1</td>\n",
       "      <td>0</td>\n",
       "      <td>0</td>\n",
       "      <td>0</td>\n",
       "      <td>5.492</td>\n",
       "      <td>-0.660</td>\n",
       "      <td>0.182</td>\n",
       "      <td>1.021</td>\n",
       "    </tr>\n",
       "    <tr>\n",
       "      <th>355</th>\n",
       "      <td>2</td>\n",
       "      <td>0</td>\n",
       "      <td>0</td>\n",
       "      <td>0</td>\n",
       "      <td>3</td>\n",
       "      <td>0</td>\n",
       "      <td>0</td>\n",
       "      <td>0</td>\n",
       "      <td>0</td>\n",
       "      <td>0</td>\n",
       "      <td>...</td>\n",
       "      <td>0</td>\n",
       "      <td>0</td>\n",
       "      <td>0</td>\n",
       "      <td>0</td>\n",
       "      <td>0</td>\n",
       "      <td>0</td>\n",
       "      <td>4.954</td>\n",
       "      <td>0.290</td>\n",
       "      <td>0.522</td>\n",
       "      <td>2.279</td>\n",
       "    </tr>\n",
       "    <tr>\n",
       "      <th>485</th>\n",
       "      <td>2</td>\n",
       "      <td>0</td>\n",
       "      <td>0</td>\n",
       "      <td>0</td>\n",
       "      <td>3</td>\n",
       "      <td>0</td>\n",
       "      <td>0</td>\n",
       "      <td>0</td>\n",
       "      <td>0</td>\n",
       "      <td>0</td>\n",
       "      <td>...</td>\n",
       "      <td>0</td>\n",
       "      <td>0</td>\n",
       "      <td>0</td>\n",
       "      <td>0</td>\n",
       "      <td>0</td>\n",
       "      <td>0</td>\n",
       "      <td>5.044</td>\n",
       "      <td>0.309</td>\n",
       "      <td>0.500</td>\n",
       "      <td>1.416</td>\n",
       "    </tr>\n",
       "    <tr>\n",
       "      <th>775</th>\n",
       "      <td>2</td>\n",
       "      <td>0</td>\n",
       "      <td>0</td>\n",
       "      <td>0</td>\n",
       "      <td>3</td>\n",
       "      <td>0</td>\n",
       "      <td>0</td>\n",
       "      <td>0</td>\n",
       "      <td>0</td>\n",
       "      <td>0</td>\n",
       "      <td>...</td>\n",
       "      <td>0</td>\n",
       "      <td>0</td>\n",
       "      <td>0</td>\n",
       "      <td>0</td>\n",
       "      <td>0</td>\n",
       "      <td>0</td>\n",
       "      <td>4.755</td>\n",
       "      <td>-0.818</td>\n",
       "      <td>0.600</td>\n",
       "      <td>2.534</td>\n",
       "    </tr>\n",
       "  </tbody>\n",
       "</table>\n",
       "<p>5 rows × 777 columns</p>\n",
       "</div>"
      ],
      "text/plain": [
       "     D001  D002  D003  D004  D005  D006  D007  D008  D009  D010  ...  D768  \\\n",
       "25      1     0     0     0     2     0     0     0     0     0  ...     0   \n",
       "781     1     0     0     2     2     0     0     0     0     0  ...     0   \n",
       "355     2     0     0     0     3     0     0     0     0     0  ...     0   \n",
       "485     2     0     0     0     3     0     0     0     0     0  ...     0   \n",
       "775     2     0     0     0     3     0     0     0     0     0  ...     0   \n",
       "\n",
       "     D769  D770  D771  D772  D773   D774   D775   D776   D777  \n",
       "25      0     0     0     0     0  4.755 -0.146  0.273  1.547  \n",
       "781     0     1     0     0     0  5.492 -0.660  0.182  1.021  \n",
       "355     0     0     0     0     0  4.954  0.290  0.522  2.279  \n",
       "485     0     0     0     0     0  5.044  0.309  0.500  1.416  \n",
       "775     0     0     0     0     0  4.755 -0.818  0.600  2.534  \n",
       "\n",
       "[5 rows x 777 columns]"
      ]
     },
     "execution_count": 18,
     "metadata": {},
     "output_type": "execute_result"
    }
   ],
   "source": [
    "train_x.head()"
   ]
  },
  {
   "cell_type": "markdown",
   "id": "21aabbe8",
   "metadata": {},
   "source": [
    "## Decision Tree"
   ]
  },
  {
   "cell_type": "code",
   "execution_count": 19,
   "id": "9f253167",
   "metadata": {},
   "outputs": [],
   "source": [
    "#Importing AdaBoost Classifier\n",
    "from sklearn.ensemble import AdaBoostClassifier\n",
    "from sklearn.tree import DecisionTreeRegressor"
   ]
  },
  {
   "cell_type": "code",
   "execution_count": 20,
   "metadata": {},
   "outputs": [],
   "source": [
    "#Defining Hyperparameters\n",
    "DTR = DecisionTreeRegressor(max_depth=4)\n",
    "base=DTR\n",
    "n = 50\n",
    "rate = 1\n",
    "state = 0"
   ]
  },
  {
   "cell_type": "code",
   "execution_count": 21,
   "id": "4f415b46",
   "metadata": {},
   "outputs": [],
   "source": [
    "#Creating an AdaBoost Instance\n",
    "clf = AdaBoostClassifier(n_estimators=n, learning_rate=rate, random_state=rate)\n",
    "\n",
    "model1 = clf.fit(train_x, train_y)\n",
    "\n",
    "y_prediction = model1.predict(rem_x)"
   ]
  },
  {
   "cell_type": "code",
   "execution_count": 22,
   "id": "b7696275",
   "metadata": {},
   "outputs": [],
   "source": [
    "#clf.score(test_x, test_y)"
   ]
  },
  {
   "cell_type": "code",
   "execution_count": 23,
   "id": "b5b8417f",
   "metadata": {},
   "outputs": [
    {
     "name": "stdout",
     "output_type": "stream",
     "text": [
      "AdaBoost Classifier Model Accuracy: 0.9316109422492401\n"
     ]
    }
   ],
   "source": [
    "#import scikit-learn metrics module for accuracy calculation\n",
    "from sklearn.metrics import accuracy_score\n",
    "\n",
    "# calculate and print model accuracy\n",
    "print(\"AdaBoost Classifier Model Accuracy:\", accuracy_score(rem_y, y_prediction))"
   ]
  },
  {
   "cell_type": "markdown",
   "id": "8457450d",
   "metadata": {},
   "source": [
    "## RandomForest"
   ]
  },
  {
   "cell_type": "code",
   "execution_count": 24,
   "id": "08f46641",
   "metadata": {},
   "outputs": [],
   "source": [
    "from sklearn.ensemble import RandomForestClassifier\n",
    "RF = RandomForestClassifier(random_state = 101)\n",
    "base= RF\n",
    "n = 150\n",
    "rate = 1\n",
    "state = 96\n",
    "\n",
    "clf1 = AdaBoostClassifier(random_state=state, base_estimator=base, n_estimators=n, learning_rate=rate)\n",
    "\n",
    "model2 = clf1.fit(train_x, train_y)\n",
    "\n",
    "y_prediction2 = model2.predict(valid_x)"
   ]
  },
  {
   "cell_type": "code",
   "execution_count": 32,
   "id": "395ba1b7",
   "metadata": {},
   "outputs": [
    {
     "name": "stdout",
     "output_type": "stream",
     "text": [
      "AdaBoost Classifier with RadomForest Model Accuracy: 0.898936170212766\n"
     ]
    }
   ],
   "source": [
    "# calculate and print model accuracy\n",
    "score = print(\"AdaBoost Classifier with RadomForest Model Accuracy:\", accuracy_score(valid_y, y_prediction2))"
   ]
  },
  {
   "cell_type": "markdown",
   "id": "1ad216a4",
   "metadata": {},
   "source": [
    "## SVM"
   ]
  },
  {
   "cell_type": "code",
   "execution_count": 26,
   "id": "204f9a62",
   "metadata": {},
   "outputs": [],
   "source": [
    "#Evaluating the model using svc base estimator\n",
    "from sklearn import svm\n",
    "\n",
    "# import scikit-learn metrics module for accuracy calculation\n",
    "from sklearn.metrics import accuracy_score\n",
    "#svc = SVC(probability = True, kernel = 'linear')\n",
    "\n",
    "# create adaboost classifer object\n",
    "#clf1 = AdaBoostClassifier(svm.SVC(kernel='linear', gamma='auto', C=2), n_estimators=50, learning_rate=1.0, algorithm='SAMME')\n",
    "clf1 = AdaBoostClassifier(svm.SVC(probability=True,kernel='linear'), n_estimators=50, learning_rate=1.0, algorithm='SAMME')\n",
    "#clf1 = SVMEnsemble(n_estimators=20, **params)\n",
    "\n"
   ]
  },
  {
   "cell_type": "code",
   "execution_count": 27,
   "id": "4e4d201c",
   "metadata": {},
   "outputs": [
    {
     "ename": "ValueError",
     "evalue": "BaseClassifier in AdaBoostClassifier ensemble is worse than random, ensemble can not be fit.",
     "output_type": "error",
     "traceback": [
      "\u001b[1;31m---------------------------------------------------------------------------\u001b[0m",
      "\u001b[1;31mValueError\u001b[0m                                Traceback (most recent call last)",
      "\u001b[1;32m~\\AppData\\Local\\Temp/ipykernel_6996/3292421232.py\u001b[0m in \u001b[0;36m<module>\u001b[1;34m\u001b[0m\n\u001b[0;32m      1\u001b[0m \u001b[1;31m# train adaboost classifier\u001b[0m\u001b[1;33m\u001b[0m\u001b[1;33m\u001b[0m\u001b[0m\n\u001b[1;32m----> 2\u001b[1;33m \u001b[0mmodel2\u001b[0m \u001b[1;33m=\u001b[0m \u001b[0mclf1\u001b[0m\u001b[1;33m.\u001b[0m\u001b[0mfit\u001b[0m\u001b[1;33m(\u001b[0m\u001b[0mtrain_x\u001b[0m\u001b[1;33m,\u001b[0m \u001b[0mtrain_y\u001b[0m\u001b[1;33m)\u001b[0m\u001b[1;33m\u001b[0m\u001b[1;33m\u001b[0m\u001b[0m\n\u001b[0m",
      "\u001b[1;32mc:\\Users\\Sumpaame\\anaconda3\\lib\\site-packages\\sklearn\\ensemble\\_weight_boosting.py\u001b[0m in \u001b[0;36mfit\u001b[1;34m(self, X, y, sample_weight)\u001b[0m\n\u001b[0;32m    441\u001b[0m \u001b[1;33m\u001b[0m\u001b[0m\n\u001b[0;32m    442\u001b[0m         \u001b[1;31m# Fit\u001b[0m\u001b[1;33m\u001b[0m\u001b[1;33m\u001b[0m\u001b[0m\n\u001b[1;32m--> 443\u001b[1;33m         \u001b[1;32mreturn\u001b[0m \u001b[0msuper\u001b[0m\u001b[1;33m(\u001b[0m\u001b[1;33m)\u001b[0m\u001b[1;33m.\u001b[0m\u001b[0mfit\u001b[0m\u001b[1;33m(\u001b[0m\u001b[0mX\u001b[0m\u001b[1;33m,\u001b[0m \u001b[0my\u001b[0m\u001b[1;33m,\u001b[0m \u001b[0msample_weight\u001b[0m\u001b[1;33m)\u001b[0m\u001b[1;33m\u001b[0m\u001b[1;33m\u001b[0m\u001b[0m\n\u001b[0m\u001b[0;32m    444\u001b[0m \u001b[1;33m\u001b[0m\u001b[0m\n\u001b[0;32m    445\u001b[0m     \u001b[1;32mdef\u001b[0m \u001b[0m_validate_estimator\u001b[0m\u001b[1;33m(\u001b[0m\u001b[0mself\u001b[0m\u001b[1;33m)\u001b[0m\u001b[1;33m:\u001b[0m\u001b[1;33m\u001b[0m\u001b[1;33m\u001b[0m\u001b[0m\n",
      "\u001b[1;32mc:\\Users\\Sumpaame\\anaconda3\\lib\\site-packages\\sklearn\\ensemble\\_weight_boosting.py\u001b[0m in \u001b[0;36mfit\u001b[1;34m(self, X, y, sample_weight)\u001b[0m\n\u001b[0;32m    128\u001b[0m         \u001b[1;32mfor\u001b[0m \u001b[0miboost\u001b[0m \u001b[1;32min\u001b[0m \u001b[0mrange\u001b[0m\u001b[1;33m(\u001b[0m\u001b[0mself\u001b[0m\u001b[1;33m.\u001b[0m\u001b[0mn_estimators\u001b[0m\u001b[1;33m)\u001b[0m\u001b[1;33m:\u001b[0m\u001b[1;33m\u001b[0m\u001b[1;33m\u001b[0m\u001b[0m\n\u001b[0;32m    129\u001b[0m             \u001b[1;31m# Boosting step\u001b[0m\u001b[1;33m\u001b[0m\u001b[1;33m\u001b[0m\u001b[0m\n\u001b[1;32m--> 130\u001b[1;33m             sample_weight, estimator_weight, estimator_error = self._boost(\n\u001b[0m\u001b[0;32m    131\u001b[0m                 \u001b[0miboost\u001b[0m\u001b[1;33m,\u001b[0m\u001b[1;33m\u001b[0m\u001b[1;33m\u001b[0m\u001b[0m\n\u001b[0;32m    132\u001b[0m                 \u001b[0mX\u001b[0m\u001b[1;33m,\u001b[0m \u001b[0my\u001b[0m\u001b[1;33m,\u001b[0m\u001b[1;33m\u001b[0m\u001b[1;33m\u001b[0m\u001b[0m\n",
      "\u001b[1;32mc:\\Users\\Sumpaame\\anaconda3\\lib\\site-packages\\sklearn\\ensemble\\_weight_boosting.py\u001b[0m in \u001b[0;36m_boost\u001b[1;34m(self, iboost, X, y, sample_weight, random_state)\u001b[0m\n\u001b[0;32m    504\u001b[0m \u001b[1;33m\u001b[0m\u001b[0m\n\u001b[0;32m    505\u001b[0m         \u001b[1;32melse\u001b[0m\u001b[1;33m:\u001b[0m  \u001b[1;31m# elif self.algorithm == \"SAMME\":\u001b[0m\u001b[1;33m\u001b[0m\u001b[1;33m\u001b[0m\u001b[0m\n\u001b[1;32m--> 506\u001b[1;33m             return self._boost_discrete(iboost, X, y, sample_weight,\n\u001b[0m\u001b[0;32m    507\u001b[0m                                         random_state)\n\u001b[0;32m    508\u001b[0m \u001b[1;33m\u001b[0m\u001b[0m\n",
      "\u001b[1;32mc:\\Users\\Sumpaame\\anaconda3\\lib\\site-packages\\sklearn\\ensemble\\_weight_boosting.py\u001b[0m in \u001b[0;36m_boost_discrete\u001b[1;34m(self, iboost, X, y, sample_weight, random_state)\u001b[0m\n\u001b[0;32m    594\u001b[0m             \u001b[0mself\u001b[0m\u001b[1;33m.\u001b[0m\u001b[0mestimators_\u001b[0m\u001b[1;33m.\u001b[0m\u001b[0mpop\u001b[0m\u001b[1;33m(\u001b[0m\u001b[1;33m-\u001b[0m\u001b[1;36m1\u001b[0m\u001b[1;33m)\u001b[0m\u001b[1;33m\u001b[0m\u001b[1;33m\u001b[0m\u001b[0m\n\u001b[0;32m    595\u001b[0m             \u001b[1;32mif\u001b[0m \u001b[0mlen\u001b[0m\u001b[1;33m(\u001b[0m\u001b[0mself\u001b[0m\u001b[1;33m.\u001b[0m\u001b[0mestimators_\u001b[0m\u001b[1;33m)\u001b[0m \u001b[1;33m==\u001b[0m \u001b[1;36m0\u001b[0m\u001b[1;33m:\u001b[0m\u001b[1;33m\u001b[0m\u001b[1;33m\u001b[0m\u001b[0m\n\u001b[1;32m--> 596\u001b[1;33m                 raise ValueError('BaseClassifier in AdaBoostClassifier '\n\u001b[0m\u001b[0;32m    597\u001b[0m                                  \u001b[1;34m'ensemble is worse than random, ensemble '\u001b[0m\u001b[1;33m\u001b[0m\u001b[1;33m\u001b[0m\u001b[0m\n\u001b[0;32m    598\u001b[0m                                  'can not be fit.')\n",
      "\u001b[1;31mValueError\u001b[0m: BaseClassifier in AdaBoostClassifier ensemble is worse than random, ensemble can not be fit."
     ]
    }
   ],
   "source": [
    "# train adaboost classifier\n",
    "model2 = clf1.fit(train_x, train_y)"
   ]
  },
  {
   "cell_type": "code",
   "execution_count": 28,
   "id": "9e261a53",
   "metadata": {},
   "outputs": [
    {
     "ename": "NameError",
     "evalue": "name 'test_x' is not defined",
     "output_type": "error",
     "traceback": [
      "\u001b[1;31m---------------------------------------------------------------------------\u001b[0m",
      "\u001b[1;31mNameError\u001b[0m                                 Traceback (most recent call last)",
      "\u001b[1;32m~\\AppData\\Local\\Temp/ipykernel_6996/2981401225.py\u001b[0m in \u001b[0;36m<module>\u001b[1;34m\u001b[0m\n\u001b[0;32m      1\u001b[0m \u001b[1;31m# predict the response for test dataset\u001b[0m\u001b[1;33m\u001b[0m\u001b[1;33m\u001b[0m\u001b[0m\n\u001b[1;32m----> 2\u001b[1;33m \u001b[0my_prediction2\u001b[0m \u001b[1;33m=\u001b[0m \u001b[0mmodel2\u001b[0m\u001b[1;33m.\u001b[0m\u001b[0mpredict\u001b[0m\u001b[1;33m(\u001b[0m\u001b[0mtest_x\u001b[0m\u001b[1;33m)\u001b[0m\u001b[1;33m\u001b[0m\u001b[1;33m\u001b[0m\u001b[0m\n\u001b[0m",
      "\u001b[1;31mNameError\u001b[0m: name 'test_x' is not defined"
     ]
    }
   ],
   "source": [
    "# predict the response for test dataset\n",
    "y_prediction2 = model2.predict(test_x)"
   ]
  },
  {
   "cell_type": "code",
   "execution_count": null,
   "id": "059ec359",
   "metadata": {},
   "outputs": [],
   "source": [
    "# calculate and print model accuracy\n",
    "print(\"Model Accuracy with SVC Base Estimator:\", accuracy_score(y_test, y_pred))"
   ]
  },
  {
   "cell_type": "code",
   "execution_count": 33,
   "id": "46a84adb",
   "metadata": {},
   "outputs": [],
   "source": [
    "# writing the hyperparameters and the performance of the model to a file\n",
    "try:\n",
    "        with open('performance.csv', 'x') as f:\n",
    "                f.write('n,\\\n",
    "                        base,\\\n",
    "                        rate,\\\n",
    "                        score\\n')\n",
    "                f.write(f'{n},\\\n",
    "                        {base},\\\n",
    "                        {rate},\\\n",
    "                        {score}\\n')\n",
    "except FileExistsError:\n",
    "        with open('performance.csv', 'a') as f:\n",
    "                f.write(f'{n},\\\n",
    "                        {base},\\\n",
    "                        {rate},\\\n",
    "                        {score}\\n')"
   ]
  }
 ],
 "metadata": {
  "interpreter": {
   "hash": "8ce2e8e1bf60d1c643baf1fb89a0ad61186e28a01bbffb7667b3fbcf6cc64c53"
  },
  "kernelspec": {
   "display_name": "Python 3.9.7 ('base')",
   "language": "python",
   "name": "python3"
  },
  "language_info": {
   "codemirror_mode": {
    "name": "ipython",
    "version": 3
   },
   "file_extension": ".py",
   "mimetype": "text/x-python",
   "name": "python",
   "nbconvert_exporter": "python",
   "pygments_lexer": "ipython3",
   "version": "3.9.7"
  }
 },
 "nbformat": 4,
 "nbformat_minor": 5
}
